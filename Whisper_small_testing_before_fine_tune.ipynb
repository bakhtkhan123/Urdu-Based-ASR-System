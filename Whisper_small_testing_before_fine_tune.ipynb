{
  "cells": [
    {
      "cell_type": "code",
      "source": [
        "!pip install git+https://github.com/openai/whisper.git \n",
        "!pip install jiwer"
      ],
      "metadata": {
        "id": "O_H6_Zeo-iXJ"
      },
      "execution_count": null,
      "outputs": []
    },
    {
      "cell_type": "code",
      "source": [
        "from google.colab import drive\n",
        "drive.mount('/content/drive')"
      ],
      "metadata": {
        "colab": {
          "base_uri": "https://localhost:8080/"
        },
        "id": "DQ5tsxNh08lL",
        "outputId": "e8543741-4f17-4b4c-fb91-26e7d953c443"
      },
      "execution_count": 2,
      "outputs": [
        {
          "output_type": "stream",
          "name": "stdout",
          "text": [
            "Mounted at /content/drive\n"
          ]
        }
      ]
    },
    {
      "cell_type": "code",
      "source": [
        "import os\n",
        "audio_paths=[]\n",
        "d = \"/content/drive/MyDrive/Whisper model data/Data_50/local audio voices\"\n",
        "for path in os.listdir(d):\n",
        "    full_path = os.path.join(d, path)\n",
        "    if os.path.isfile(full_path):\n",
        "        audio_paths.append(full_path)   \n",
        "audio_paths.sort()\n",
        "print(audio_paths)"
      ],
      "metadata": {
        "colab": {
          "base_uri": "https://localhost:8080/"
        },
        "id": "ljBQHg041NWN",
        "outputId": "9bac9914-c3c3-44f7-bd0c-b6c530427162"
      },
      "execution_count": 5,
      "outputs": [
        {
          "output_type": "stream",
          "name": "stdout",
          "text": [
            "['/content/drive/MyDrive/Whisper model data/Data_50/local audio voices/New recording 11.m4a', '/content/drive/MyDrive/Whisper model data/Data_50/local audio voices/New recording 12.m4a', '/content/drive/MyDrive/Whisper model data/Data_50/local audio voices/New recording 13.m4a', '/content/drive/MyDrive/Whisper model data/Data_50/local audio voices/New recording 14.m4a', '/content/drive/MyDrive/Whisper model data/Data_50/local audio voices/New recording 15.m4a', '/content/drive/MyDrive/Whisper model data/Data_50/local audio voices/New recording 16.m4a', '/content/drive/MyDrive/Whisper model data/Data_50/local audio voices/New recording 17.m4a', '/content/drive/MyDrive/Whisper model data/Data_50/local audio voices/New recording 18.m4a', '/content/drive/MyDrive/Whisper model data/Data_50/local audio voices/New recording 19.m4a', '/content/drive/MyDrive/Whisper model data/Data_50/local audio voices/New recording 20.m4a', '/content/drive/MyDrive/Whisper model data/Data_50/local audio voices/New recording 31.m4a', '/content/drive/MyDrive/Whisper model data/Data_50/local audio voices/New recording 32.m4a', '/content/drive/MyDrive/Whisper model data/Data_50/local audio voices/New recording 34.m4a', '/content/drive/MyDrive/Whisper model data/Data_50/local audio voices/New recording 35.m4a', '/content/drive/MyDrive/Whisper model data/Data_50/local audio voices/New recording 36.m4a', '/content/drive/MyDrive/Whisper model data/Data_50/local audio voices/New recording 37.m4a', '/content/drive/MyDrive/Whisper model data/Data_50/local audio voices/New recording 38.m4a', '/content/drive/MyDrive/Whisper model data/Data_50/local audio voices/New recording 39.m4a', '/content/drive/MyDrive/Whisper model data/Data_50/local audio voices/New recording 40.m4a', '/content/drive/MyDrive/Whisper model data/Data_50/local audio voices/New recording 41.m4a', '/content/drive/MyDrive/Whisper model data/Data_50/local audio voices/New recording 42.m4a', '/content/drive/MyDrive/Whisper model data/Data_50/local audio voices/New recording 43.m4a', '/content/drive/MyDrive/Whisper model data/Data_50/local audio voices/New recording 44.m4a', '/content/drive/MyDrive/Whisper model data/Data_50/local audio voices/New recording 45.m4a', '/content/drive/MyDrive/Whisper model data/Data_50/local audio voices/New recording 46.m4a', '/content/drive/MyDrive/Whisper model data/Data_50/local audio voices/New recording 47.m4a', '/content/drive/MyDrive/Whisper model data/Data_50/local audio voices/New recording 48.m4a', '/content/drive/MyDrive/Whisper model data/Data_50/local audio voices/New recording 49.m4a', '/content/drive/MyDrive/Whisper model data/Data_50/local audio voices/New recording 50.m4a', '/content/drive/MyDrive/Whisper model data/Data_50/local audio voices/New recording 51.m4a', '/content/drive/MyDrive/Whisper model data/Data_50/local audio voices/New recording 52.m4a', '/content/drive/MyDrive/Whisper model data/Data_50/local audio voices/New recording 53.m4a', '/content/drive/MyDrive/Whisper model data/Data_50/local audio voices/New recording 54.m4a', '/content/drive/MyDrive/Whisper model data/Data_50/local audio voices/New recording 55.m4a', '/content/drive/MyDrive/Whisper model data/Data_50/local audio voices/New recording 56.m4a', '/content/drive/MyDrive/Whisper model data/Data_50/local audio voices/New recording 57.m4a', '/content/drive/MyDrive/Whisper model data/Data_50/local audio voices/New recording 58.m4a', '/content/drive/MyDrive/Whisper model data/Data_50/local audio voices/New recording 59.m4a', '/content/drive/MyDrive/Whisper model data/Data_50/local audio voices/New recording 60.m4a', '/content/drive/MyDrive/Whisper model data/Data_50/local audio voices/New recording 61.m4a', '/content/drive/MyDrive/Whisper model data/Data_50/local audio voices/New recording 62.m4a', '/content/drive/MyDrive/Whisper model data/Data_50/local audio voices/New recording 63.m4a', '/content/drive/MyDrive/Whisper model data/Data_50/local audio voices/New recording 64.m4a', '/content/drive/MyDrive/Whisper model data/Data_50/local audio voices/New recording 65.m4a', '/content/drive/MyDrive/Whisper model data/Data_50/local audio voices/New recording 66.m4a', '/content/drive/MyDrive/Whisper model data/Data_50/local audio voices/New recording 67.m4a', '/content/drive/MyDrive/Whisper model data/Data_50/local audio voices/New recording 68.m4a', '/content/drive/MyDrive/Whisper model data/Data_50/local audio voices/New recording 69.m4a']\n"
          ]
        }
      ]
    },
    {
      "cell_type": "code",
      "source": [
        "audio_paths"
      ],
      "metadata": {
        "id": "QofECB9P1ulx"
      },
      "execution_count": null,
      "outputs": []
    },
    {
      "cell_type": "code",
      "source": [
        "import whisper\n",
        "\n",
        "model = whisper.load_model(\"small\")\n",
        "hypothesis = []\n",
        "for each_audio in audio_paths:\n",
        "  result = model.transcribe(each_audio , language = 'urdu')\n",
        "  print(result[\"text\"])\n",
        "  hypothesis.append(result[\"text\"])"
      ],
      "metadata": {
        "id": "YJAnDJSa-c6G",
        "colab": {
          "base_uri": "https://localhost:8080/"
        },
        "outputId": "218def6c-71ce-44c1-ce82-07dc7833da82"
      },
      "execution_count": 11,
      "outputs": [
        {
          "output_type": "stream",
          "name": "stderr",
          "text": [
            "100%|███████████████████████████████████████| 461M/461M [00:07<00:00, 63.3MiB/s]\n"
          ]
        },
        {
          "output_type": "stream",
          "name": "stdout",
          "text": [
            " امید کرتا ہوں آپ سب خیریہ سے ہوں گے\n",
            " آج میں بہت مصروف ہوں\n",
            " پاکسان نے 2009 میں وڑھ کب جیتا تھا\n",
            " ہاری صور پر میراپسندی داکرٹر ہے\n",
            " پان ایک اچھا حالوں میں شمار کی جاتی ہیں\n",
            " بخت اللہ سے مجھے بے انتہام احبت ہے\n",
            " بخت اللہ کے بغیر میری زندگی عدوری ہے\n",
            " میرے ہاتھ میں پانچ سوکن اوٹ ہے\n",
            " قوہ اجاد کی مہ ہے\n",
            " میرے ایک خبصورا دوز ہے جس کا نام سیف ہے\n",
            " آجو یار ملکے کالف روٹی کھلتے ہیں\n",
            " آجو یار ملکی ٹیکن سیمان کلتے\n",
            " مینے را hang عمانälم\n",
            " میرا نام ہے کاشیف\n",
            " آج نٹ کی رفتر بہت تیز ہے\n",
            " آج باقر بہت پیارہ لگ رہا ہے\n",
            " FIP میں لوگ گیم کیلنے آتے ہیں\n",
            " میرا نام عمر خٹک ہے اور کاشیف اور جناد میرے دوست ہیں اور یہ اسد بالکل میرا دوست نہیں\n",
            " بکت آپ کیا کر رہے ہیں؟\n",
            " بس جلدی سے کمرہ جماعت میں آجو\n",
            " میں آج لہور جا رہا ہوں\n",
            " میں 10 اور 11 تاریخ کو لہوری\n",
            " میں اور بکت پوت کہ رہے دوست ہیں\n",
            " انائیت بہت تیز انسان ہے اس کے ساتھ دوستی بلکوی مت کرنا\n",
            " میں Thanksgiving\n",
            " ہمی رو نے جہ留 کی طرف کے فنان تھی classify\n",
            " وقت بہت تیری سے بزرہ رہا ہے\n",
            " میں کھانا کھانے جا رہی ہوں\n",
            " تیریم فاتمچ چلو میرے ساتھ\n",
            " سنوار والے دن ہمارا پیلہ پیپر ہے\n",
            " آج کر آپ کیا کر ذہے ہیں\n",
            " تیریم بہت بوری لڑکی ہے\n",
            " یہ پن کا بہت تیز جد رہا ہے\n",
            " چاہب وہ اٹھنڈی ہے جو کھونی نہیں چاہیے\n",
            " میں کانا بنار ہوں\n",
            " مجھے بھوک لگی ہے\n",
            " مجھے گھر جانا ہے\n",
            " میرے سامنے جو آسمان ہے وہ بہت تیارہ لگرا ہے نیلا آسمان ہے\n",
            " آج ہماریک بالیت کی کلاس ہے اور ہم صباح سے اس کے لیے انتظار کریں\n",
            " میرا نام زیشان ہے اور میں بکھت سے ہوں\n",
            " میں اس ملک سے باہر جانا چاہتا ہوں\n",
            " جمشید میرے بہت اچھا دوست ہے بہت اچھا انسان ہے\n",
            " میں میں اس سے آ رہا ہوں اور میں نے کانا کھا لیا ہے\n",
            " اسلام علیکم اپنے پیر کو میرے مدی اور میں تیاری کر رہا ہوں بہت تنشن بھیو\n",
            " میں مسجد جا رہوں نماز پرنے کے لئے\n",
            " اسلام علیکم بھی کرکٹ کے لنجاروں فرشمن کے لیے\n",
            " میں سونے جا رہا ہوں\n",
            " جمعہ سم بہت بیار ہے\n"
          ]
        }
      ]
    },
    {
      "cell_type": "code",
      "source": [
        "# calculating the Word Error Rate for 100 audios\n",
        "print(hypothesis)"
      ],
      "metadata": {
        "id": "F71QW4iPEb2M",
        "colab": {
          "base_uri": "https://localhost:8080/"
        },
        "outputId": "ce3dcd5f-7db4-480f-ef4b-560abd894b42"
      },
      "execution_count": 12,
      "outputs": [
        {
          "output_type": "stream",
          "name": "stdout",
          "text": [
            "[' امید کرتا ہوں آپ سب خیریہ سے ہوں گے', ' آج میں بہت مصروف ہوں', ' پاکسان نے 2009 میں وڑھ کب جیتا تھا', ' ہاری صور پر میراپسندی داکرٹر ہے', ' پان ایک اچھا حالوں میں شمار کی جاتی ہیں', ' بخت اللہ سے مجھے بے انتہام احبت ہے', ' بخت اللہ کے بغیر میری زندگی عدوری ہے', ' میرے ہاتھ میں پانچ سوکن اوٹ ہے', ' قوہ اجاد کی مہ ہے', ' میرے ایک خبصورا دوز ہے جس کا نام سیف ہے', ' آجو یار ملکے کالف روٹی کھلتے ہیں', ' آجو یار ملکی ٹیکن سیمان کلتے', ' مینے را hang عمانälم', ' میرا نام ہے کاشیف', ' آج نٹ کی رفتر بہت تیز ہے', ' آج باقر بہت پیارہ لگ رہا ہے', ' FIP میں لوگ گیم کیلنے آتے ہیں', ' میرا نام عمر خٹک ہے اور کاشیف اور جناد میرے دوست ہیں اور یہ اسد بالکل میرا دوست نہیں', ' بکت آپ کیا کر رہے ہیں؟', ' بس جلدی سے کمرہ جماعت میں آجو', ' میں آج لہور جا رہا ہوں', ' میں 10 اور 11 تاریخ کو لہوری', ' میں اور بکت پوت کہ رہے دوست ہیں', ' انائیت بہت تیز انسان ہے اس کے ساتھ دوستی بلکوی مت کرنا', ' میں Thanksgiving', ' ہمی رو نے جہ留 کی طرف کے فنان تھی classify', ' وقت بہت تیری سے بزرہ رہا ہے', ' میں کھانا کھانے جا رہی ہوں', ' تیریم فاتمچ چلو میرے ساتھ', ' سنوار والے دن ہمارا پیلہ پیپر ہے', ' آج کر آپ کیا کر ذہے ہیں', ' تیریم بہت بوری لڑکی ہے', ' یہ پن کا بہت تیز جد رہا ہے', ' چاہب وہ اٹھنڈی ہے جو کھونی نہیں چاہیے', ' میں کانا بنار ہوں', ' مجھے بھوک لگی ہے', ' مجھے گھر جانا ہے', ' میرے سامنے جو آسمان ہے وہ بہت تیارہ لگرا ہے نیلا آسمان ہے', ' آج ہماریک بالیت کی کلاس ہے اور ہم صباح سے اس کے لیے انتظار کریں', ' میرا نام زیشان ہے اور میں بکھت سے ہوں', ' میں اس ملک سے باہر جانا چاہتا ہوں', ' جمشید میرے بہت اچھا دوست ہے بہت اچھا انسان ہے', ' میں میں اس سے آ رہا ہوں اور میں نے کانا کھا لیا ہے', ' اسلام علیکم اپنے پیر کو میرے مدی اور میں تیاری کر رہا ہوں بہت تنشن بھیو', ' میں مسجد جا رہوں نماز پرنے کے لئے', ' اسلام علیکم بھی کرکٹ کے لنجاروں فرشمن کے لیے', ' میں سونے جا رہا ہوں', ' جمعہ سم بہت بیار ہے']\n"
          ]
        }
      ]
    },
    {
      "cell_type": "code",
      "source": [
        "# converting the groung_truth.txt into list\n",
        "\n",
        "with open('/content/drive/MyDrive/Whisper model data/Data_50/Grnd truth.txt', 'r') as f:\n",
        "    ground_truth = [line.strip() for line in f]"
      ],
      "metadata": {
        "id": "ap2j-ld4FDMr"
      },
      "execution_count": 13,
      "outputs": []
    },
    {
      "cell_type": "code",
      "source": [
        "# Printing Reference and Prediction\n",
        "for i, hyp_sentence in enumerate(hypothesis):\n",
        "    # print(i)\n",
        "    print(\"-\" * 100)\n",
        "    print(\"Reference:\", ground_truth[i])\n",
        "    print(\"Prediction:\", hyp_sentence)"
      ],
      "metadata": {
        "colab": {
          "base_uri": "https://localhost:8080/"
        },
        "id": "3lEHca4v3i8F",
        "outputId": "842c8a5b-85ca-4485-8c03-41d2059f701d"
      },
      "execution_count": 17,
      "outputs": [
        {
          "output_type": "stream",
          "name": "stdout",
          "text": [
            "----------------------------------------------------------------------------------------------------\n",
            "Reference: امید کرتا ہوں آپ سب خیریت سے ہونگے\n",
            "Prediction:  امید کرتا ہوں آپ سب خیریہ سے ہوں گے\n",
            "----------------------------------------------------------------------------------------------------\n",
            "Reference: آج میں بہت مصروف ہوں\n",
            "Prediction:  آج میں بہت مصروف ہوں\n",
            "----------------------------------------------------------------------------------------------------\n",
            "Reference: پاکستان نے دو ہزار نوں میں ویلڈ کپ جیتا تھا\n",
            "Prediction:  پاکسان نے 2009 میں وڑھ کب جیتا تھا\n",
            "----------------------------------------------------------------------------------------------------\n",
            "Reference: حاریث راؤف میرا پسندیدہ کرکیٹر ہے\n",
            "Prediction:  ہاری صور پر میراپسندی داکرٹر ہے\n",
            "----------------------------------------------------------------------------------------------------\n",
            "Reference: اور ایک اچھے الراؤنڈر میں شمار کیے جاتے ہیں\n",
            "Prediction:  پان ایک اچھا حالوں میں شمار کی جاتی ہیں\n",
            "----------------------------------------------------------------------------------------------------\n",
            "Reference: بخت اللہ سے مجھے بے انتہا محبت ہے\n",
            "Prediction:  بخت اللہ سے مجھے بے انتہام احبت ہے\n",
            "----------------------------------------------------------------------------------------------------\n",
            "Reference: بخت اللہ کے بغیر میری زندگی ادھوری ہے\n",
            "Prediction:  بخت اللہ کے بغیر میری زندگی عدوری ہے\n",
            "----------------------------------------------------------------------------------------------------\n",
            "Reference: میرے ہاتھ میں پانچ سو کا نوٹ ہے\n",
            "Prediction:  میرے ہاتھ میں پانچ سوکن اوٹ ہے\n",
            "----------------------------------------------------------------------------------------------------\n",
            "Reference: کوا ایجاد کی ماں ہے\n",
            "Prediction:  قوہ اجاد کی مہ ہے\n",
            "----------------------------------------------------------------------------------------------------\n",
            "Reference: میرے ایک خوبصورت دوست ہیں جس کا نام سیف ہے\n",
            "Prediction:  میرے ایک خبصورا دوز ہے جس کا نام سیف ہے\n",
            "----------------------------------------------------------------------------------------------------\n",
            "Reference: آ جاؤ یار مِل کے کال آف ڈیوٹی کھیلتے ہیں\n",
            "Prediction:  آجو یار ملکے کالف روٹی کھلتے ہیں\n",
            "----------------------------------------------------------------------------------------------------\n",
            "Reference: آجاؤ یار مِل کے ٹیکن سیون کھیلتے ہے\n",
            "Prediction:  آجو یار ملکی ٹیکن سیمان کلتے\n",
            "----------------------------------------------------------------------------------------------------\n",
            "Reference: میرا نام ایفرہ رحمن ہے\n",
            "Prediction:  مینے را hang عمانälم\n",
            "----------------------------------------------------------------------------------------------------\n",
            "Reference: میرا نام ہے کاشف\n",
            "Prediction:  میرا نام ہے کاشیف\n",
            "----------------------------------------------------------------------------------------------------\n",
            "Reference: آج نیٹ کی رفتار بہت تیز ہے\n",
            "Prediction:  آج نٹ کی رفتر بہت تیز ہے\n",
            "----------------------------------------------------------------------------------------------------\n",
            "Reference: آج بخت بہت پیارا لگ رہا ہے\n",
            "Prediction:  آج باقر بہت پیارہ لگ رہا ہے\n",
            "----------------------------------------------------------------------------------------------------\n",
            "Reference: ایف وئی پی میں لوگ گیم کھیلنے آتے ہے\n",
            "Prediction:  FIP میں لوگ گیم کیلنے آتے ہیں\n",
            "----------------------------------------------------------------------------------------------------\n",
            "Reference: میرا نام اُمیر خٹک ہے اور کاشف اور جنید میرے دوست ہے اور یہ اسد بلکل میرا دوست نہیں ہے\n",
            "Prediction:  میرا نام عمر خٹک ہے اور کاشیف اور جناد میرے دوست ہیں اور یہ اسد بالکل میرا دوست نہیں\n",
            "----------------------------------------------------------------------------------------------------\n",
            "Reference: بخت آپ کیا کر رہے ہو\n",
            "Prediction:  بکت آپ کیا کر رہے ہیں؟\n",
            "----------------------------------------------------------------------------------------------------\n",
            "Reference: بخت جلدی سے کمرہ جماعت میں آ جاو\n",
            "Prediction:  بس جلدی سے کمرہ جماعت میں آجو\n",
            "----------------------------------------------------------------------------------------------------\n",
            "Reference: میں آج لاہور جا رہا ہوں\n",
            "Prediction:  میں آج لہور جا رہا ہوں\n",
            "----------------------------------------------------------------------------------------------------\n",
            "Reference: میں دس اور گیارہ تاریخ کو لاہور کیا کہتے ہے\n",
            "Prediction:  میں 10 اور 11 تاریخ کو لہوری\n",
            "----------------------------------------------------------------------------------------------------\n",
            "Reference: میں اور بخت بہت گہرے دوست ہیں\n",
            "Prediction:  میں اور بکت پوت کہ رہے دوست ہیں\n",
            "----------------------------------------------------------------------------------------------------\n",
            "Reference: عنایت بہت تیز انسان ہے اس کے ساتھ دوستی بلکل بھی مت کرنا\n",
            "Prediction:  انائیت بہت تیز انسان ہے اس کے ساتھ دوستی بلکوی مت کرنا\n",
            "----------------------------------------------------------------------------------------------------\n",
            "Reference: میں مشق کر رہی ہوں\n",
            "Prediction:  میں Thanksgiving\n",
            "----------------------------------------------------------------------------------------------------\n",
            "Reference: میں بہت تھک گئی ہوں\n",
            "Prediction:  ہمی رو نے جہ留 کی طرف کے فنان تھی classify\n",
            "----------------------------------------------------------------------------------------------------\n",
            "Reference: وقت بہت تیزی سے گزر رہا ہے\n",
            "Prediction:  وقت بہت تیری سے بزرہ رہا ہے\n",
            "----------------------------------------------------------------------------------------------------\n",
            "Reference: میں کھانا کھانے جا رہی ہوں\n",
            "Prediction:  میں کھانا کھانے جا رہی ہوں\n",
            "----------------------------------------------------------------------------------------------------\n",
            "Reference: تحریم فاطمہ چلو میرے ساتھ\n",
            "Prediction:  تیریم فاتمچ چلو میرے ساتھ\n",
            "----------------------------------------------------------------------------------------------------\n",
            "Reference: سموار والے دن ہمارا پہلا پیپر ہے\n",
            "Prediction:  سنوار والے دن ہمارا پیلہ پیپر ہے\n",
            "----------------------------------------------------------------------------------------------------\n",
            "Reference: آج کل آپ کیا کر رہے ہوں\n",
            "Prediction:  آج کر آپ کیا کر ذہے ہیں\n",
            "----------------------------------------------------------------------------------------------------\n",
            "Reference: تحریم بہت بری لڑکی ہے\n",
            "Prediction:  تیریم بہت بوری لڑکی ہے\n",
            "----------------------------------------------------------------------------------------------------\n",
            "Reference: یہ پھنکا بہت تیز چل رہا ہے\n",
            "Prediction:  یہ پن کا بہت تیز جد رہا ہے\n",
            "----------------------------------------------------------------------------------------------------\n",
            "Reference: چائے بہت ٹھنڈی ہے جو کہ ہونی نہیں چاہئے\n",
            "Prediction:  چاہب وہ اٹھنڈی ہے جو کھونی نہیں چاہیے\n",
            "----------------------------------------------------------------------------------------------------\n",
            "Reference: میں کھانا بنا رہی ہوں\n",
            "Prediction:  میں کانا بنار ہوں\n",
            "----------------------------------------------------------------------------------------------------\n",
            "Reference: مجھے بھوک لگی ہے مجھے بھوک لگی ہے\n",
            "Prediction:  مجھے بھوک لگی ہے\n",
            "----------------------------------------------------------------------------------------------------\n",
            "Reference: مجھے گھر جانا ہے\n",
            "Prediction:  مجھے گھر جانا ہے\n",
            "----------------------------------------------------------------------------------------------------\n",
            "Reference: میرے سامنے جو آسمان ہے وہ بہت پیارا لگ رہا ہے نیلا آسمان ہے\n",
            "Prediction:  میرے سامنے جو آسمان ہے وہ بہت تیارہ لگرا ہے نیلا آسمان ہے\n",
            "----------------------------------------------------------------------------------------------------\n",
            "Reference: آج ہماری اقبالیات کی کلاس ہے اور ہم صبح سے اسکے لیے انتظار کر رہے ہیں\n",
            "Prediction:  آج ہماریک بالیت کی کلاس ہے اور ہم صباح سے اس کے لیے انتظار کریں\n",
            "----------------------------------------------------------------------------------------------------\n",
            "Reference: میا نام ذیشان ہے اور میں بکھر سے ہو\n",
            "Prediction:  میرا نام زیشان ہے اور میں بکھت سے ہوں\n",
            "----------------------------------------------------------------------------------------------------\n",
            "Reference: میں اس ملک سے باہر جانا چاہتا ہوں\n",
            "Prediction:  میں اس ملک سے باہر جانا چاہتا ہوں\n",
            "----------------------------------------------------------------------------------------------------\n",
            "Reference: جمشید میرا بہت اچھا دوست ہے بہت اچھا انسان ہے\n",
            "Prediction:  جمشید میرے بہت اچھا دوست ہے بہت اچھا انسان ہے\n",
            "----------------------------------------------------------------------------------------------------\n",
            "Reference: میں میس سے آ رہا ہوں اور میں نے کھانا کھا لیا\n",
            "Prediction:  میں میں اس سے آ رہا ہوں اور میں نے کانا کھا لیا ہے\n",
            "----------------------------------------------------------------------------------------------------\n",
            "Reference: سلام علیکم میرے پیر کو میرا میڈ ہے اور میں تیاری کر رہا ہو بہت ٹینشن میں ہوں\n",
            "Prediction:  اسلام علیکم اپنے پیر کو میرے مدی اور میں تیاری کر رہا ہوں بہت تنشن بھیو\n",
            "----------------------------------------------------------------------------------------------------\n",
            "Reference: میں مسجد جا رہا ہو نماز پڑھنے کے لیے\n",
            "Prediction:  میں مسجد جا رہوں نماز پرنے کے لئے\n",
            "----------------------------------------------------------------------------------------------------\n",
            "Reference: اسلام علیکم میں ابھی کرکٹ کھیلنے جا رہا ہو ریفرشمینٹ کے لیے\n",
            "Prediction:  اسلام علیکم بھی کرکٹ کے لنجاروں فرشمن کے لیے\n",
            "----------------------------------------------------------------------------------------------------\n",
            "Reference: میں سونے جا رہا ہو\n",
            "Prediction:  میں سونے جا رہا ہوں\n",
            "----------------------------------------------------------------------------------------------------\n",
            "Reference: موسم بہت پیارا ہے\n",
            "Prediction:  جمعہ سم بہت بیار ہے\n"
          ]
        }
      ]
    },
    {
      "cell_type": "code",
      "source": [
        "from jiwer import wer, cer\n",
        "\n",
        "word_error_rate = wer(ground_truth, hypothesis)\n",
        "character_error_rate = cer(ground_truth, hypothesis)\n",
        "\n",
        "print(f\"Word Error Rate for 48 Audios is {word_error_rate*100} and Character Error Rate for 48 Audios is {character_error_rate*100}\")"
      ],
      "metadata": {
        "colab": {
          "base_uri": "https://localhost:8080/"
        },
        "id": "sPJd_xcREh8E",
        "outputId": "33724384-3a5c-4723-cca2-dcfc2975af8a"
      },
      "execution_count": 18,
      "outputs": [
        {
          "output_type": "stream",
          "name": "stdout",
          "text": [
            "Word Error Rate for 48 Audios is 43.14720812182741 and Character Error Rate for 48 Audios is 21.010962241169306\n"
          ]
        }
      ]
    }
  ],
  "metadata": {
    "colab": {
      "provenance": []
    },
    "kernelspec": {
      "display_name": "Python 3",
      "name": "python3"
    },
    "language_info": {
      "name": "python"
    },
    "accelerator": "GPU",
    "gpuClass": "standard"
  },
  "nbformat": 4,
  "nbformat_minor": 0
}