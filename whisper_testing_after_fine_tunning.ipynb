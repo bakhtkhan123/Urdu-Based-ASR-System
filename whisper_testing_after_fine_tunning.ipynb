{
  "nbformat": 4,
  "nbformat_minor": 0,
  "metadata": {
    "colab": {
      "provenance": []
    },
    "kernelspec": {
      "name": "python3",
      "display_name": "Python 3"
    },
    "language_info": {
      "name": "python"
    },
    "widgets": {
      "application/vnd.jupyter.widget-state+json": {
        "697ac61df9a24269a5b823f550866d11": {
          "model_module": "@jupyter-widgets/controls",
          "model_name": "HBoxModel",
          "model_module_version": "1.5.0",
          "state": {
            "_dom_classes": [],
            "_model_module": "@jupyter-widgets/controls",
            "_model_module_version": "1.5.0",
            "_model_name": "HBoxModel",
            "_view_count": null,
            "_view_module": "@jupyter-widgets/controls",
            "_view_module_version": "1.5.0",
            "_view_name": "HBoxView",
            "box_style": "",
            "children": [
              "IPY_MODEL_04e00539834d40dfb42d0b7fbbaafd53",
              "IPY_MODEL_3d429b65b3b448799667ed7e3cdacbc3",
              "IPY_MODEL_cdfbab295e3943e2a5cdfa222a97b6db"
            ],
            "layout": "IPY_MODEL_5a382afa5e0147f8aec95429f3f05ef5"
          }
        },
        "04e00539834d40dfb42d0b7fbbaafd53": {
          "model_module": "@jupyter-widgets/controls",
          "model_name": "HTMLModel",
          "model_module_version": "1.5.0",
          "state": {
            "_dom_classes": [],
            "_model_module": "@jupyter-widgets/controls",
            "_model_module_version": "1.5.0",
            "_model_name": "HTMLModel",
            "_view_count": null,
            "_view_module": "@jupyter-widgets/controls",
            "_view_module_version": "1.5.0",
            "_view_name": "HTMLView",
            "description": "",
            "description_tooltip": null,
            "layout": "IPY_MODEL_dbd1d06a673847dba4f71eccdc4b349d",
            "placeholder": "​",
            "style": "IPY_MODEL_000f0c1515944b6aa5d9aa2e01f38203",
            "value": "Downloading: 100%"
          }
        },
        "3d429b65b3b448799667ed7e3cdacbc3": {
          "model_module": "@jupyter-widgets/controls",
          "model_name": "FloatProgressModel",
          "model_module_version": "1.5.0",
          "state": {
            "_dom_classes": [],
            "_model_module": "@jupyter-widgets/controls",
            "_model_module_version": "1.5.0",
            "_model_name": "FloatProgressModel",
            "_view_count": null,
            "_view_module": "@jupyter-widgets/controls",
            "_view_module_version": "1.5.0",
            "_view_name": "ProgressView",
            "bar_style": "success",
            "description": "",
            "description_tooltip": null,
            "layout": "IPY_MODEL_8a8eb0875271446d8e03f7577abdcb9d",
            "max": 1592,
            "min": 0,
            "orientation": "horizontal",
            "style": "IPY_MODEL_835ad5286a3c4bb38c0f1095cec443cf",
            "value": 1592
          }
        },
        "cdfbab295e3943e2a5cdfa222a97b6db": {
          "model_module": "@jupyter-widgets/controls",
          "model_name": "HTMLModel",
          "model_module_version": "1.5.0",
          "state": {
            "_dom_classes": [],
            "_model_module": "@jupyter-widgets/controls",
            "_model_module_version": "1.5.0",
            "_model_name": "HTMLModel",
            "_view_count": null,
            "_view_module": "@jupyter-widgets/controls",
            "_view_module_version": "1.5.0",
            "_view_name": "HTMLView",
            "description": "",
            "description_tooltip": null,
            "layout": "IPY_MODEL_6f3d07975c9f4c848bc6c41a525ba7bf",
            "placeholder": "​",
            "style": "IPY_MODEL_b576ab30cac94501986cc10c9ad71991",
            "value": " 1.59k/1.59k [00:00&lt;00:00, 22.5kB/s]"
          }
        },
        "5a382afa5e0147f8aec95429f3f05ef5": {
          "model_module": "@jupyter-widgets/base",
          "model_name": "LayoutModel",
          "model_module_version": "1.2.0",
          "state": {
            "_model_module": "@jupyter-widgets/base",
            "_model_module_version": "1.2.0",
            "_model_name": "LayoutModel",
            "_view_count": null,
            "_view_module": "@jupyter-widgets/base",
            "_view_module_version": "1.2.0",
            "_view_name": "LayoutView",
            "align_content": null,
            "align_items": null,
            "align_self": null,
            "border": null,
            "bottom": null,
            "display": null,
            "flex": null,
            "flex_flow": null,
            "grid_area": null,
            "grid_auto_columns": null,
            "grid_auto_flow": null,
            "grid_auto_rows": null,
            "grid_column": null,
            "grid_gap": null,
            "grid_row": null,
            "grid_template_areas": null,
            "grid_template_columns": null,
            "grid_template_rows": null,
            "height": null,
            "justify_content": null,
            "justify_items": null,
            "left": null,
            "margin": null,
            "max_height": null,
            "max_width": null,
            "min_height": null,
            "min_width": null,
            "object_fit": null,
            "object_position": null,
            "order": null,
            "overflow": null,
            "overflow_x": null,
            "overflow_y": null,
            "padding": null,
            "right": null,
            "top": null,
            "visibility": null,
            "width": null
          }
        },
        "dbd1d06a673847dba4f71eccdc4b349d": {
          "model_module": "@jupyter-widgets/base",
          "model_name": "LayoutModel",
          "model_module_version": "1.2.0",
          "state": {
            "_model_module": "@jupyter-widgets/base",
            "_model_module_version": "1.2.0",
            "_model_name": "LayoutModel",
            "_view_count": null,
            "_view_module": "@jupyter-widgets/base",
            "_view_module_version": "1.2.0",
            "_view_name": "LayoutView",
            "align_content": null,
            "align_items": null,
            "align_self": null,
            "border": null,
            "bottom": null,
            "display": null,
            "flex": null,
            "flex_flow": null,
            "grid_area": null,
            "grid_auto_columns": null,
            "grid_auto_flow": null,
            "grid_auto_rows": null,
            "grid_column": null,
            "grid_gap": null,
            "grid_row": null,
            "grid_template_areas": null,
            "grid_template_columns": null,
            "grid_template_rows": null,
            "height": null,
            "justify_content": null,
            "justify_items": null,
            "left": null,
            "margin": null,
            "max_height": null,
            "max_width": null,
            "min_height": null,
            "min_width": null,
            "object_fit": null,
            "object_position": null,
            "order": null,
            "overflow": null,
            "overflow_x": null,
            "overflow_y": null,
            "padding": null,
            "right": null,
            "top": null,
            "visibility": null,
            "width": null
          }
        },
        "000f0c1515944b6aa5d9aa2e01f38203": {
          "model_module": "@jupyter-widgets/controls",
          "model_name": "DescriptionStyleModel",
          "model_module_version": "1.5.0",
          "state": {
            "_model_module": "@jupyter-widgets/controls",
            "_model_module_version": "1.5.0",
            "_model_name": "DescriptionStyleModel",
            "_view_count": null,
            "_view_module": "@jupyter-widgets/base",
            "_view_module_version": "1.2.0",
            "_view_name": "StyleView",
            "description_width": ""
          }
        },
        "8a8eb0875271446d8e03f7577abdcb9d": {
          "model_module": "@jupyter-widgets/base",
          "model_name": "LayoutModel",
          "model_module_version": "1.2.0",
          "state": {
            "_model_module": "@jupyter-widgets/base",
            "_model_module_version": "1.2.0",
            "_model_name": "LayoutModel",
            "_view_count": null,
            "_view_module": "@jupyter-widgets/base",
            "_view_module_version": "1.2.0",
            "_view_name": "LayoutView",
            "align_content": null,
            "align_items": null,
            "align_self": null,
            "border": null,
            "bottom": null,
            "display": null,
            "flex": null,
            "flex_flow": null,
            "grid_area": null,
            "grid_auto_columns": null,
            "grid_auto_flow": null,
            "grid_auto_rows": null,
            "grid_column": null,
            "grid_gap": null,
            "grid_row": null,
            "grid_template_areas": null,
            "grid_template_columns": null,
            "grid_template_rows": null,
            "height": null,
            "justify_content": null,
            "justify_items": null,
            "left": null,
            "margin": null,
            "max_height": null,
            "max_width": null,
            "min_height": null,
            "min_width": null,
            "object_fit": null,
            "object_position": null,
            "order": null,
            "overflow": null,
            "overflow_x": null,
            "overflow_y": null,
            "padding": null,
            "right": null,
            "top": null,
            "visibility": null,
            "width": null
          }
        },
        "835ad5286a3c4bb38c0f1095cec443cf": {
          "model_module": "@jupyter-widgets/controls",
          "model_name": "ProgressStyleModel",
          "model_module_version": "1.5.0",
          "state": {
            "_model_module": "@jupyter-widgets/controls",
            "_model_module_version": "1.5.0",
            "_model_name": "ProgressStyleModel",
            "_view_count": null,
            "_view_module": "@jupyter-widgets/base",
            "_view_module_version": "1.2.0",
            "_view_name": "StyleView",
            "bar_color": null,
            "description_width": ""
          }
        },
        "6f3d07975c9f4c848bc6c41a525ba7bf": {
          "model_module": "@jupyter-widgets/base",
          "model_name": "LayoutModel",
          "model_module_version": "1.2.0",
          "state": {
            "_model_module": "@jupyter-widgets/base",
            "_model_module_version": "1.2.0",
            "_model_name": "LayoutModel",
            "_view_count": null,
            "_view_module": "@jupyter-widgets/base",
            "_view_module_version": "1.2.0",
            "_view_name": "LayoutView",
            "align_content": null,
            "align_items": null,
            "align_self": null,
            "border": null,
            "bottom": null,
            "display": null,
            "flex": null,
            "flex_flow": null,
            "grid_area": null,
            "grid_auto_columns": null,
            "grid_auto_flow": null,
            "grid_auto_rows": null,
            "grid_column": null,
            "grid_gap": null,
            "grid_row": null,
            "grid_template_areas": null,
            "grid_template_columns": null,
            "grid_template_rows": null,
            "height": null,
            "justify_content": null,
            "justify_items": null,
            "left": null,
            "margin": null,
            "max_height": null,
            "max_width": null,
            "min_height": null,
            "min_width": null,
            "object_fit": null,
            "object_position": null,
            "order": null,
            "overflow": null,
            "overflow_x": null,
            "overflow_y": null,
            "padding": null,
            "right": null,
            "top": null,
            "visibility": null,
            "width": null
          }
        },
        "b576ab30cac94501986cc10c9ad71991": {
          "model_module": "@jupyter-widgets/controls",
          "model_name": "DescriptionStyleModel",
          "model_module_version": "1.5.0",
          "state": {
            "_model_module": "@jupyter-widgets/controls",
            "_model_module_version": "1.5.0",
            "_model_name": "DescriptionStyleModel",
            "_view_count": null,
            "_view_module": "@jupyter-widgets/base",
            "_view_module_version": "1.2.0",
            "_view_name": "StyleView",
            "description_width": ""
          }
        }
      }
    }
  },
  "cells": [
    {
      "cell_type": "code",
      "source": [
        "!pip install git+https://github.com/openai/whisper.git \n",
        "!pip install jiwer"
      ],
      "metadata": {
        "id": "o2OSgbrT3vrE"
      },
      "execution_count": null,
      "outputs": []
    },
    {
      "cell_type": "code",
      "source": [
        "from transformers import WhisperForConditionalGeneration, WhisperProcessor\n",
        "\n",
        "model = WhisperForConditionalGeneration.from_pretrained(\"Sania67/Fine_tune_whisper_small\")\n",
        "processor = WhisperProcessor.from_pretrained(\"Sania67/Fine_tune_whisper_small\")\n"
      ],
      "metadata": {
        "id": "k9bnJYzT7shU"
      },
      "execution_count": 12,
      "outputs": []
    },
    {
      "cell_type": "code",
      "source": [
        "!pip install gradio"
      ],
      "metadata": {
        "id": "bLO2BLaJRZLB"
      },
      "execution_count": null,
      "outputs": []
    },
    {
      "cell_type": "code",
      "source": [
        "import os\n",
        "audio_paths=[]\n",
        "d = \"/content/audio\"\n",
        "for path in os.listdir(d):\n",
        "    full_path = os.path.join(d, path)\n",
        "    if os.path.isfile(full_path):\n",
        "        audio_paths.append(full_path)   \n",
        "audio_paths.sort()\n",
        "print(audio_paths)\n"
      ],
      "metadata": {
        "colab": {
          "base_uri": "https://localhost:8080/"
        },
        "id": "BaTg2mxEWhUQ",
        "outputId": "5e7e73da-44ae-41f5-9c1e-e4bf2d9a208c"
      },
      "execution_count": 33,
      "outputs": [
        {
          "output_type": "stream",
          "name": "stdout",
          "text": [
            "['/content/audio/audio_1.mp4', '/content/audio/audio_2.mp4', '/content/audio/audio_3.mp4', '/content/audio/audio_4.mp4', '/content/audio/audio_5.mp4', '/content/audio/audio_6.mp4', '/content/audio/audio_7.mp4', '/content/audio/audio_8.mp4', '/content/audio/audio_9.mp4', '/content/audio/last.mp4']\n"
          ]
        }
      ]
    },
    {
      "cell_type": "code",
      "source": [
        "from transformers import pipeline\n",
        "import gradio as gr\n",
        "\n",
        "pipe = pipeline(model=\"Sania67/Fine_tune_whisper_small\") \n",
        "\n",
        "def transcribe(audio):\n",
        "    text = pipe(audio)[\"text\"]\n",
        "    return text\n",
        "b=[]\n",
        "for i in range(len(audio_paths)):\n",
        "  a=transcribe(audio=audio_paths[i])\n",
        "  i=i+1\n",
        "  print(a)\n",
        "  b.append(a)\n",
        "\n",
        "\n"
      ],
      "metadata": {
        "colab": {
          "base_uri": "https://localhost:8080/",
          "height": 590,
          "referenced_widgets": [
            "697ac61df9a24269a5b823f550866d11",
            "04e00539834d40dfb42d0b7fbbaafd53",
            "3d429b65b3b448799667ed7e3cdacbc3",
            "cdfbab295e3943e2a5cdfa222a97b6db",
            "5a382afa5e0147f8aec95429f3f05ef5",
            "dbd1d06a673847dba4f71eccdc4b349d",
            "000f0c1515944b6aa5d9aa2e01f38203",
            "8a8eb0875271446d8e03f7577abdcb9d",
            "835ad5286a3c4bb38c0f1095cec443cf",
            "6f3d07975c9f4c848bc6c41a525ba7bf",
            "b576ab30cac94501986cc10c9ad71991"
          ]
        },
        "id": "OzhdnHpLRIz1",
        "outputId": "158d8406-d22f-4203-bf0f-5c6ee6aeb5d0"
      },
      "execution_count": 41,
      "outputs": [
        {
          "output_type": "display_data",
          "data": {
            "text/plain": [
              "Downloading:   0%|          | 0.00/1.59k [00:00<?, ?B/s]"
            ],
            "application/vnd.jupyter.widget-view+json": {
              "version_major": 2,
              "version_minor": 0,
              "model_id": "697ac61df9a24269a5b823f550866d11"
            }
          },
          "metadata": {}
        },
        {
          "output_type": "stream",
          "name": "stderr",
          "text": [
            "/usr/local/lib/python3.7/dist-packages/transformers/generation_utils.py:1364: UserWarning: Neither `max_length` nor `max_new_tokens` has been set, `max_length` will default to 448 (`self.config.max_length`). Controlling `max_length` via the config is deprecated and `max_length` will be removed from the config in v5 of Transformers -- we recommend using `max_new_tokens` to control the maximum length of the generation.\n",
            "  UserWarning,\n"
          ]
        },
        {
          "output_type": "stream",
          "name": "stdout",
          "text": [
            "کروڑوں بچے ہر روز سکول جاتے ہیں۔\n"
          ]
        },
        {
          "output_type": "stream",
          "name": "stderr",
          "text": [
            "/usr/local/lib/python3.7/dist-packages/transformers/generation_utils.py:1364: UserWarning: Neither `max_length` nor `max_new_tokens` has been set, `max_length` will default to 448 (`self.config.max_length`). Controlling `max_length` via the config is deprecated and `max_length` will be removed from the config in v5 of Transformers -- we recommend using `max_new_tokens` to control the maximum length of the generation.\n",
            "  UserWarning,\n"
          ]
        },
        {
          "output_type": "stream",
          "name": "stdout",
          "text": [
            "میں اپنی خوشات کو قابل میں رکھ سکتا ہوں۔\n"
          ]
        },
        {
          "output_type": "stream",
          "name": "stderr",
          "text": [
            "/usr/local/lib/python3.7/dist-packages/transformers/generation_utils.py:1364: UserWarning: Neither `max_length` nor `max_new_tokens` has been set, `max_length` will default to 448 (`self.config.max_length`). Controlling `max_length` via the config is deprecated and `max_length` will be removed from the config in v5 of Transformers -- we recommend using `max_new_tokens` to control the maximum length of the generation.\n",
            "  UserWarning,\n"
          ]
        },
        {
          "output_type": "stream",
          "name": "stdout",
          "text": [
            "جھے بیانی سماجی اور ابلاگی سطح پر پی موجود ہیں\n"
          ]
        },
        {
          "output_type": "stream",
          "name": "stderr",
          "text": [
            "/usr/local/lib/python3.7/dist-packages/transformers/generation_utils.py:1364: UserWarning: Neither `max_length` nor `max_new_tokens` has been set, `max_length` will default to 448 (`self.config.max_length`). Controlling `max_length` via the config is deprecated and `max_length` will be removed from the config in v5 of Transformers -- we recommend using `max_new_tokens` to control the maximum length of the generation.\n",
            "  UserWarning,\n"
          ]
        },
        {
          "output_type": "stream",
          "name": "stdout",
          "text": [
            "اتنے افغان ہم نے برداش کر لئے، حلہ کے ان میں\n"
          ]
        },
        {
          "output_type": "stream",
          "name": "stderr",
          "text": [
            "/usr/local/lib/python3.7/dist-packages/transformers/generation_utils.py:1364: UserWarning: Neither `max_length` nor `max_new_tokens` has been set, `max_length` will default to 448 (`self.config.max_length`). Controlling `max_length` via the config is deprecated and `max_length` will be removed from the config in v5 of Transformers -- we recommend using `max_new_tokens` to control the maximum length of the generation.\n",
            "  UserWarning,\n"
          ]
        },
        {
          "output_type": "stream",
          "name": "stdout",
          "text": [
            "دوسٹا گیر لگاؤ\n"
          ]
        },
        {
          "output_type": "stream",
          "name": "stderr",
          "text": [
            "/usr/local/lib/python3.7/dist-packages/transformers/generation_utils.py:1364: UserWarning: Neither `max_length` nor `max_new_tokens` has been set, `max_length` will default to 448 (`self.config.max_length`). Controlling `max_length` via the config is deprecated and `max_length` will be removed from the config in v5 of Transformers -- we recommend using `max_new_tokens` to control the maximum length of the generation.\n",
            "  UserWarning,\n"
          ]
        },
        {
          "output_type": "stream",
          "name": "stdout",
          "text": [
            "نیو یورک گروکلین کے میک سیکول آلڈی وز\n"
          ]
        },
        {
          "output_type": "stream",
          "name": "stderr",
          "text": [
            "/usr/local/lib/python3.7/dist-packages/transformers/generation_utils.py:1364: UserWarning: Neither `max_length` nor `max_new_tokens` has been set, `max_length` will default to 448 (`self.config.max_length`). Controlling `max_length` via the config is deprecated and `max_length` will be removed from the config in v5 of Transformers -- we recommend using `max_new_tokens` to control the maximum length of the generation.\n",
            "  UserWarning,\n"
          ]
        },
        {
          "output_type": "stream",
          "name": "stdout",
          "text": [
            "انکلابی قیریکوں کی بنیات کا جذبائے انتقام پر ہوتی ہے۔\n"
          ]
        },
        {
          "output_type": "stream",
          "name": "stderr",
          "text": [
            "/usr/local/lib/python3.7/dist-packages/transformers/generation_utils.py:1364: UserWarning: Neither `max_length` nor `max_new_tokens` has been set, `max_length` will default to 448 (`self.config.max_length`). Controlling `max_length` via the config is deprecated and `max_length` will be removed from the config in v5 of Transformers -- we recommend using `max_new_tokens` to control the maximum length of the generation.\n",
            "  UserWarning,\n"
          ]
        },
        {
          "output_type": "stream",
          "name": "stdout",
          "text": [
            "بار سلونہ نے اسپینش لائے گا فٹبال کا ٹائٹل جیت لیا\n"
          ]
        },
        {
          "output_type": "stream",
          "name": "stderr",
          "text": [
            "/usr/local/lib/python3.7/dist-packages/transformers/generation_utils.py:1364: UserWarning: Neither `max_length` nor `max_new_tokens` has been set, `max_length` will default to 448 (`self.config.max_length`). Controlling `max_length` via the config is deprecated and `max_length` will be removed from the config in v5 of Transformers -- we recommend using `max_new_tokens` to control the maximum length of the generation.\n",
            "  UserWarning,\n"
          ]
        },
        {
          "output_type": "stream",
          "name": "stdout",
          "text": [
            "چیزوں میں شرپ کا مال لئنا جائز ہے\n"
          ]
        },
        {
          "output_type": "stream",
          "name": "stderr",
          "text": [
            "/usr/local/lib/python3.7/dist-packages/transformers/generation_utils.py:1364: UserWarning: Neither `max_length` nor `max_new_tokens` has been set, `max_length` will default to 448 (`self.config.max_length`). Controlling `max_length` via the config is deprecated and `max_length` will be removed from the config in v5 of Transformers -- we recommend using `max_new_tokens` to control the maximum length of the generation.\n",
            "  UserWarning,\n"
          ]
        },
        {
          "output_type": "stream",
          "name": "stdout",
          "text": [
            "وہ زور سے حلصی۔\n"
          ]
        }
      ]
    },
    {
      "cell_type": "code",
      "source": [
        "print(*b,sep= \"\\n\")"
      ],
      "metadata": {
        "colab": {
          "base_uri": "https://localhost:8080/"
        },
        "id": "n9O6Pb9tgeCc",
        "outputId": "b50845c9-088e-451c-aaa6-f64c4a5424d6"
      },
      "execution_count": 44,
      "outputs": [
        {
          "output_type": "stream",
          "name": "stdout",
          "text": [
            "کروڑوں بچے ہر روز سکول جاتے ہیں۔\n",
            "میں اپنی خوشات کو قابل میں رکھ سکتا ہوں۔\n",
            "جھے بیانی سماجی اور ابلاگی سطح پر پی موجود ہیں\n",
            "اتنے افغان ہم نے برداش کر لئے، حلہ کے ان میں\n",
            "دوسٹا گیر لگاؤ\n",
            "نیو یورک گروکلین کے میک سیکول آلڈی وز\n",
            "انکلابی قیریکوں کی بنیات کا جذبائے انتقام پر ہوتی ہے۔\n",
            "بار سلونہ نے اسپینش لائے گا فٹبال کا ٹائٹل جیت لیا\n",
            "چیزوں میں شرپ کا مال لئنا جائز ہے\n",
            "وہ زور سے حلصی۔\n"
          ]
        }
      ]
    },
    {
      "cell_type": "code",
      "source": [
        "# creating text file for predictions, if file exists with this name\n",
        "# then delete it and then run the code again.\n",
        "f = open(\"hypothesis.txt\", \"x\")"
      ],
      "metadata": {
        "id": "BQnRz_aGlc6K"
      },
      "execution_count": 45,
      "outputs": []
    },
    {
      "cell_type": "code",
      "source": [
        "# writing predicted sentences in file\n",
        "for item in b:\n",
        "   print(item)\n",
        "   f.write(item + \"\\n\")\n",
        "f.close()"
      ],
      "metadata": {
        "colab": {
          "base_uri": "https://localhost:8080/"
        },
        "id": "FXHJkQo8mPrL",
        "outputId": "ca49c604-8324-4950-eb4f-a4bcdc96ca24"
      },
      "execution_count": 46,
      "outputs": [
        {
          "output_type": "stream",
          "name": "stdout",
          "text": [
            "کروڑوں بچے ہر روز سکول جاتے ہیں۔\n",
            "میں اپنی خوشات کو قابل میں رکھ سکتا ہوں۔\n",
            "جھے بیانی سماجی اور ابلاگی سطح پر پی موجود ہیں\n",
            "اتنے افغان ہم نے برداش کر لئے، حلہ کے ان میں\n",
            "دوسٹا گیر لگاؤ\n",
            "نیو یورک گروکلین کے میک سیکول آلڈی وز\n",
            "انکلابی قیریکوں کی بنیات کا جذبائے انتقام پر ہوتی ہے۔\n",
            "بار سلونہ نے اسپینش لائے گا فٹبال کا ٹائٹل جیت لیا\n",
            "چیزوں میں شرپ کا مال لئنا جائز ہے\n",
            "وہ زور سے حلصی۔\n"
          ]
        }
      ]
    },
    {
      "cell_type": "code",
      "source": [
        "# actual data of audios\n",
        "txt_file = open(\"/content/grount_truth.txt\", \"r\")\n",
        "file_content = txt_file.read()\n",
        "Reference_list = file_content.split(\"\\n\")\n",
        "txt_file.close()\n",
        "print(\"The list is: \", Reference_list)"
      ],
      "metadata": {
        "colab": {
          "base_uri": "https://localhost:8080/"
        },
        "id": "DsxS14mWmaYW",
        "outputId": "bb2807c5-6334-450e-cccd-e8e9e9740e84"
      },
      "execution_count": 47,
      "outputs": [
        {
          "output_type": "stream",
          "name": "stdout",
          "text": [
            "The list is:  ['کروڑوں بچے ہر روزسکول جا تے ہیں', 'میں اپنی خواہشات کو قابو میں رکھ سکتا ہو', 'یہ بیانیے سماجی اور ابلاغی سطح پر بھی موجود ہیں', 'اتنے افغان ہم نے برداشت کر لئے حالانکہ ان میں', 'دوسرا گیئر لگاؤ', 'نیو یارک بروکلین کے میکسویل آرڈی ووز', 'انقلابی تحریکوں کی بنیاد جذبۂ انتقام پر ہوتی ہے', 'بارسلونا نے اسپینش لالیگا فٹبال کا ٹائٹل جیت لیا', 'چیزوں میں شرط کا مال لینا جائز ہے', 'وہ زور سے ہنسی']\n"
          ]
        }
      ]
    },
    {
      "cell_type": "code",
      "source": [
        "# Printing Reference and Prediction\n",
        "for i, hyp_sentence in enumerate(b):\n",
        "    # print(i)\n",
        "    print(\"-\" * 100)\n",
        "    print(\"Reference:\", Reference_list[i])\n",
        "    print(\"Prediction:\", hyp_sentence)"
      ],
      "metadata": {
        "colab": {
          "base_uri": "https://localhost:8080/"
        },
        "id": "UTV7RtkmmhXx",
        "outputId": "8e8aea52-1555-4646-94da-b42f222c3b0c"
      },
      "execution_count": 48,
      "outputs": [
        {
          "output_type": "stream",
          "name": "stdout",
          "text": [
            "----------------------------------------------------------------------------------------------------\n",
            "Reference: کروڑوں بچے ہر روزسکول جا تے ہیں\n",
            "Prediction: کروڑوں بچے ہر روز سکول جاتے ہیں۔\n",
            "----------------------------------------------------------------------------------------------------\n",
            "Reference: میں اپنی خواہشات کو قابو میں رکھ سکتا ہو\n",
            "Prediction: میں اپنی خوشات کو قابل میں رکھ سکتا ہوں۔\n",
            "----------------------------------------------------------------------------------------------------\n",
            "Reference: یہ بیانیے سماجی اور ابلاغی سطح پر بھی موجود ہیں\n",
            "Prediction: جھے بیانی سماجی اور ابلاگی سطح پر پی موجود ہیں\n",
            "----------------------------------------------------------------------------------------------------\n",
            "Reference: اتنے افغان ہم نے برداشت کر لئے حالانکہ ان میں\n",
            "Prediction: اتنے افغان ہم نے برداش کر لئے، حلہ کے ان میں\n",
            "----------------------------------------------------------------------------------------------------\n",
            "Reference: دوسرا گیئر لگاؤ\n",
            "Prediction: دوسٹا گیر لگاؤ\n",
            "----------------------------------------------------------------------------------------------------\n",
            "Reference: نیو یارک بروکلین کے میکسویل آرڈی ووز\n",
            "Prediction: نیو یورک گروکلین کے میک سیکول آلڈی وز\n",
            "----------------------------------------------------------------------------------------------------\n",
            "Reference: انقلابی تحریکوں کی بنیاد جذبۂ انتقام پر ہوتی ہے\n",
            "Prediction: انکلابی قیریکوں کی بنیات کا جذبائے انتقام پر ہوتی ہے۔\n",
            "----------------------------------------------------------------------------------------------------\n",
            "Reference: بارسلونا نے اسپینش لالیگا فٹبال کا ٹائٹل جیت لیا\n",
            "Prediction: بار سلونہ نے اسپینش لائے گا فٹبال کا ٹائٹل جیت لیا\n",
            "----------------------------------------------------------------------------------------------------\n",
            "Reference: چیزوں میں شرط کا مال لینا جائز ہے\n",
            "Prediction: چیزوں میں شرپ کا مال لئنا جائز ہے\n",
            "----------------------------------------------------------------------------------------------------\n",
            "Reference: وہ زور سے ہنسی\n",
            "Prediction: وہ زور سے حلصی۔\n"
          ]
        }
      ]
    },
    {
      "cell_type": "code",
      "source": [
        "from jiwer import wer, cer\n",
        "from pathlib import Path\n",
        "\n",
        "word_Error_Rate = wer(Reference_list, b)\n",
        "Character_Error_Rate = cer(Reference_list, b)\n",
        "\n",
        "print(\"Word error rate is = {} ({}%)\".format(word_Error_Rate, round(word_Error_Rate*100)))\n",
        "print(\"Character error rate is = {} ({}%)\".format(Character_Error_Rate, round(Character_Error_Rate*100)))\n"
      ],
      "metadata": {
        "colab": {
          "base_uri": "https://localhost:8080/"
        },
        "id": "6bywhgufmkrp",
        "outputId": "a4ac929c-6c20-4889-beb3-3f2225d966a5"
      },
      "execution_count": 50,
      "outputs": [
        {
          "output_type": "stream",
          "name": "stdout",
          "text": [
            "Word error rate is = 0.47368421052631576 (47%)\n",
            "Character error rate is = 0.1484593837535014 (15%)\n"
          ]
        }
      ]
    }
  ]
}