{
  "cells": [
    {
      "cell_type": "code",
      "source": [
        "!pip install git+https://github.com/openai/whisper.git \n",
        "!pip install jiwer"
      ],
      "metadata": {
        "id": "O_H6_Zeo-iXJ"
      },
      "execution_count": null,
      "outputs": []
    },
    {
      "cell_type": "code",
      "source": [
        "import whisper\n",
        "\n",
        "model = whisper.load_model(\"base\")\n",
        "\n",
        "# list contain the names of all audios stored in folder.\n",
        "audio_names = ['audio1.mp3', 'audio2.mp3', 'audio3.mp3', 'audio4.mp3', 'audio5.mp3',  'audio6.mp3', 'audio7.mp3', 'audio8.mp3', 'audio9.mp3', 'audio10.mp3', 'audio11.mp3', 'audio12.mp3', 'audio13.mp3', 'audio14.mp3', 'audio15.mp3', 'audio16.mp3', 'audio17.mp3', 'audio18.mp3', 'audio19.mp3', 'audio20.mp3', 'audio21.mp3', 'audio22.mp3', 'audio23.mp3', 'audio24.mp3', 'audio25.mp3', 'audio26.mp3', 'audio27.mp3', 'audio28.mp3', 'audio29.mp3',  'audio30.mp3', 'audio31.mp3', 'audio32.mp3', 'audio33.mp3', 'audio34.mp3', 'audio35.mp3', 'audio36.mp3', 'audio37.mp3', 'audio38.mp3', 'audio39.mp3',  'audio40.mp3', 'audio41.mp3', 'audio42.mp3', 'audio43.mp3', 'audio44.mp3', 'audio45.mp3', 'audio46.mp3', 'audio47.mp3', 'audio48.mp3', 'audio49.mp3',  'audio50.mp3', 'audio51.mp3', 'audio52.mp3', 'audio53.mp3', 'audio54.mp3', 'audio55.mp3', 'audio56.mp3', 'audio57.mp3', 'audio58.mp3', 'audio59.mp3', 'audio60.mp3', 'audio61.mp3', 'audio62.mp3', 'audio63.mp3', 'audio64.mp3', 'audio65.mp3', 'audio66.mp3', 'audio67.mp3', 'audio68.mp3', 'audio69.mp3', 'audio70.mp3', 'audio71.mp3', 'audio72.mp3', 'audio73.mp3', 'audio74.mp3', 'audio75.mp3', 'audio76.mp3', 'audio77.mp3', 'audio78.mp3', 'audio79.mp3', 'audio80.mp3', 'audio81.mp3', 'audio82.mp3', 'audio83.mp3', 'audio84.mp3', 'audio85.mp3', 'audio86.mp3', 'audio87.mp3', 'audio88.mp3', 'audio89.mp3', 'audio90.mp3', 'audio91.mp3', 'audio92.mp3', 'audio93.mp3', 'audio94.mp3', 'audio95.mp3', 'audio96.mp3', 'audio97.mp3', 'audio98.mp3', 'audio99.mp3','audio100.mp3']\n",
        "\n",
        "# path of folder where audios are stored.\n",
        "audio_folder_path = \"/content/drive/MyDrive/100_Audio_data\"\n",
        "hypothesis = []\n",
        "for each_audio in audio_names:\n",
        "  result = model.transcribe(audio_folder_path + \"/\" + each_audio , language = 'urdu')\n",
        "  print(result[\"text\"])\n",
        "  hypothesis.append(result[\"text\"])"
      ],
      "metadata": {
        "id": "YJAnDJSa-c6G"
      },
      "execution_count": null,
      "outputs": []
    },
    {
      "cell_type": "code",
      "source": [
        "# calculating the Word Error Rate for 100 audios\n",
        "print(hypothesis)"
      ],
      "metadata": {
        "id": "F71QW4iPEb2M"
      },
      "execution_count": null,
      "outputs": []
    },
    {
      "cell_type": "code",
      "source": [
        "# converting the groung_truth.txt into list\n",
        "\n",
        "with open('ground_truth.txt', 'r') as f:\n",
        "    ground_truth = [line.strip() for line in f]"
      ],
      "metadata": {
        "id": "ap2j-ld4FDMr"
      },
      "execution_count": 10,
      "outputs": []
    },
    {
      "cell_type": "code",
      "source": [
        "from jiwer import wer, cer\n",
        "\n",
        "word_error_rate = wer(ground_truth, hypothesis)\n",
        "character_error_rate = cer(ground_truth, hypothesis)\n",
        "\n",
        "print(f\"Word Error Rate for 100 Audios is {word_error_rate*100} and Character Error Rate for 100 Audios is {character_error_rate*100}\")"
      ],
      "metadata": {
        "colab": {
          "base_uri": "https://localhost:8080/"
        },
        "id": "sPJd_xcREh8E",
        "outputId": "6460aca0-4648-43e3-a56d-33670b91f13c"
      },
      "execution_count": 14,
      "outputs": [
        {
          "output_type": "stream",
          "name": "stdout",
          "text": [
            "Word Error Rate for 100 Audios is 69.86951364175563 and Character Error Rate for 100 Audios is 38.394044137197554\n"
          ]
        }
      ]
    }
  ],
  "metadata": {
    "colab": {
      "collapsed_sections": [],
      "provenance": []
    },
    "kernelspec": {
      "display_name": "Python 3",
      "name": "python3"
    },
    "language_info": {
      "name": "python"
    }
  },
  "nbformat": 4,
  "nbformat_minor": 0
}