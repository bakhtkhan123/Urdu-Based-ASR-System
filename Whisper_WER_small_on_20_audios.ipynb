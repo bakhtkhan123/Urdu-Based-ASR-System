{
  "cells": [
    {
      "cell_type": "code",
      "source": [
        "!pip install git+https://github.com/openai/whisper.git \n",
        "!pip install jiwer"
      ],
      "metadata": {
        "id": "O_H6_Zeo-iXJ"
      },
      "execution_count": null,
      "outputs": []
    },
    {
      "cell_type": "code",
      "source": [
        "import whisper\n",
        "\n",
        "model = whisper.load_model(\"small\")\n"
      ],
      "metadata": {
        "colab": {
          "base_uri": "https://localhost:8080/"
        },
        "id": "0WVglwW9JT2h",
        "outputId": "8e37512c-4bac-4f15-8ed0-64a2eadb5363"
      },
      "execution_count": 2,
      "outputs": [
        {
          "output_type": "stream",
          "name": "stderr",
          "text": [
            "100%|███████████████████████████████████████| 461M/461M [00:15<00:00, 31.7MiB/s]\n"
          ]
        }
      ]
    },
    {
      "cell_type": "code",
      "source": [
        "\n",
        "# list contain the names of all audios stored in folder.\n",
        "audio_names = ['audio_1.mp4','audio_2.mp4','audio_3.mp4','audio_4.mp4','audio_5.mp4','audio_6.mp4','audio_7.mp4','audio_8.mp4','audio_9.mp4','audio_10.mp4','audio_11.mp4','audio_12.mp4','audio_13.mp4','audio_14.mp4','audio_15.mp4','audio_16.mp4','audio_17.mp4','audio_18.mp4','audio_19.mp4','audio_20.mp4']\n",
        "# path of folder where audios are stored.\n",
        "audio_folder_path = \"/content/audio\"\n",
        "hypothesis = []\n",
        "for each_audio in audio_names:\n",
        "  result = model.transcribe(audio_folder_path + \"/\" + each_audio , language = 'urdu')\n",
        "  print(result[\"text\"])\n",
        "  hypothesis.append(result[\"text\"])"
      ],
      "metadata": {
        "id": "YJAnDJSa-c6G",
        "colab": {
          "base_uri": "https://localhost:8080/"
        },
        "outputId": "da3b9f70-900c-42d5-b2e1-0df30a46e4b0"
      },
      "execution_count": 5,
      "outputs": [
        {
          "output_type": "stream",
          "name": "stderr",
          "text": [
            "/usr/local/lib/python3.7/dist-packages/whisper/transcribe.py:78: UserWarning: FP16 is not supported on CPU; using FP32 instead\n",
            "  warnings.warn(\"FP16 is not supported on CPU; using FP32 instead\")\n"
          ]
        },
        {
          "output_type": "stream",
          "name": "stdout",
          "text": [
            " کروڑوں بچے ہر روز سکول جاتے ہیں\n"
          ]
        },
        {
          "output_type": "stream",
          "name": "stderr",
          "text": [
            "/usr/local/lib/python3.7/dist-packages/whisper/transcribe.py:78: UserWarning: FP16 is not supported on CPU; using FP32 instead\n",
            "  warnings.warn(\"FP16 is not supported on CPU; using FP32 instead\")\n"
          ]
        },
        {
          "output_type": "stream",
          "name": "stdout",
          "text": [
            " میں اپنی خوشات کو قابو میں رکھ سکتا ہوں\n"
          ]
        },
        {
          "output_type": "stream",
          "name": "stderr",
          "text": [
            "/usr/local/lib/python3.7/dist-packages/whisper/transcribe.py:78: UserWarning: FP16 is not supported on CPU; using FP32 instead\n",
            "  warnings.warn(\"FP16 is not supported on CPU; using FP32 instead\")\n"
          ]
        },
        {
          "output_type": "stream",
          "name": "stdout",
          "text": [
            " یہ بیانی سماجی اور ابلاگی سطح پر بھی موجود ہیں\n"
          ]
        },
        {
          "output_type": "stream",
          "name": "stderr",
          "text": [
            "/usr/local/lib/python3.7/dist-packages/whisper/transcribe.py:78: UserWarning: FP16 is not supported on CPU; using FP32 instead\n",
            "  warnings.warn(\"FP16 is not supported on CPU; using FP32 instead\")\n"
          ]
        },
        {
          "output_type": "stream",
          "name": "stdout",
          "text": [
            " اتنے افغان ہم نے برداش کر لیے حلہ کے ان میں\n"
          ]
        },
        {
          "output_type": "stream",
          "name": "stderr",
          "text": [
            "/usr/local/lib/python3.7/dist-packages/whisper/transcribe.py:78: UserWarning: FP16 is not supported on CPU; using FP32 instead\n",
            "  warnings.warn(\"FP16 is not supported on CPU; using FP32 instead\")\n"
          ]
        },
        {
          "output_type": "stream",
          "name": "stdout",
          "text": [
            " دوسطہ گیر لگاو\n"
          ]
        },
        {
          "output_type": "stream",
          "name": "stderr",
          "text": [
            "/usr/local/lib/python3.7/dist-packages/whisper/transcribe.py:78: UserWarning: FP16 is not supported on CPU; using FP32 instead\n",
            "  warnings.warn(\"FP16 is not supported on CPU; using FP32 instead\")\n"
          ]
        },
        {
          "output_type": "stream",
          "name": "stdout",
          "text": [
            " نیو جورگ ڈروکلین ڈیمیکس سیکوال ڈیوز\n"
          ]
        },
        {
          "output_type": "stream",
          "name": "stderr",
          "text": [
            "/usr/local/lib/python3.7/dist-packages/whisper/transcribe.py:78: UserWarning: FP16 is not supported on CPU; using FP32 instead\n",
            "  warnings.warn(\"FP16 is not supported on CPU; using FP32 instead\")\n"
          ]
        },
        {
          "output_type": "stream",
          "name": "stdout",
          "text": [
            " انقلابی قیریکوں کی بنیات کا جزبائے انتقام پر ہوتی ہے\n"
          ]
        },
        {
          "output_type": "stream",
          "name": "stderr",
          "text": [
            "/usr/local/lib/python3.7/dist-packages/whisper/transcribe.py:78: UserWarning: FP16 is not supported on CPU; using FP32 instead\n",
            "  warnings.warn(\"FP16 is not supported on CPU; using FP32 instead\")\n"
          ]
        },
        {
          "output_type": "stream",
          "name": "stdout",
          "text": [
            " بار سلونا نے اسپینش لائگا فتوال کا تطور جیت لیا\n"
          ]
        },
        {
          "output_type": "stream",
          "name": "stderr",
          "text": [
            "/usr/local/lib/python3.7/dist-packages/whisper/transcribe.py:78: UserWarning: FP16 is not supported on CPU; using FP32 instead\n",
            "  warnings.warn(\"FP16 is not supported on CPU; using FP32 instead\")\n"
          ]
        },
        {
          "output_type": "stream",
          "name": "stdout",
          "text": [
            " چیزوں میں شرط کا مال لینا جائز ہے\n"
          ]
        },
        {
          "output_type": "stream",
          "name": "stderr",
          "text": [
            "/usr/local/lib/python3.7/dist-packages/whisper/transcribe.py:78: UserWarning: FP16 is not supported on CPU; using FP32 instead\n",
            "  warnings.warn(\"FP16 is not supported on CPU; using FP32 instead\")\n"
          ]
        },
        {
          "output_type": "stream",
          "name": "stdout",
          "text": [
            " وہ زور سے حلصی۔\n"
          ]
        },
        {
          "output_type": "stream",
          "name": "stderr",
          "text": [
            "/usr/local/lib/python3.7/dist-packages/whisper/transcribe.py:78: UserWarning: FP16 is not supported on CPU; using FP32 instead\n",
            "  warnings.warn(\"FP16 is not supported on CPU; using FP32 instead\")\n"
          ]
        },
        {
          "output_type": "stream",
          "name": "stdout",
          "text": [
            " اسی گیفیت پر شاید شایر نے کہا تھا\n"
          ]
        },
        {
          "output_type": "stream",
          "name": "stderr",
          "text": [
            "/usr/local/lib/python3.7/dist-packages/whisper/transcribe.py:78: UserWarning: FP16 is not supported on CPU; using FP32 instead\n",
            "  warnings.warn(\"FP16 is not supported on CPU; using FP32 instead\")\n"
          ]
        },
        {
          "output_type": "stream",
          "name": "stdout",
          "text": [
            " صرف سوپ جوز اور دیگر سیال اشیا کا استعمال جاری رکھیں\n"
          ]
        },
        {
          "output_type": "stream",
          "name": "stderr",
          "text": [
            "/usr/local/lib/python3.7/dist-packages/whisper/transcribe.py:78: UserWarning: FP16 is not supported on CPU; using FP32 instead\n",
            "  warnings.warn(\"FP16 is not supported on CPU; using FP32 instead\")\n"
          ]
        },
        {
          "output_type": "stream",
          "name": "stdout",
          "text": [
            " ان رستوں کو دھوندے گا\n"
          ]
        },
        {
          "output_type": "stream",
          "name": "stderr",
          "text": [
            "/usr/local/lib/python3.7/dist-packages/whisper/transcribe.py:78: UserWarning: FP16 is not supported on CPU; using FP32 instead\n",
            "  warnings.warn(\"FP16 is not supported on CPU; using FP32 instead\")\n"
          ]
        },
        {
          "output_type": "stream",
          "name": "stdout",
          "text": [
            " تو دنیا سے بغاوت کردو ورنا مابا چہاں کہتے ہیں\n"
          ]
        },
        {
          "output_type": "stream",
          "name": "stderr",
          "text": [
            "/usr/local/lib/python3.7/dist-packages/whisper/transcribe.py:78: UserWarning: FP16 is not supported on CPU; using FP32 instead\n",
            "  warnings.warn(\"FP16 is not supported on CPU; using FP32 instead\")\n"
          ]
        },
        {
          "output_type": "stream",
          "name": "stdout",
          "text": [
            " ہری بڑی تیزی سے پیلی\n"
          ]
        },
        {
          "output_type": "stream",
          "name": "stderr",
          "text": [
            "/usr/local/lib/python3.7/dist-packages/whisper/transcribe.py:78: UserWarning: FP16 is not supported on CPU; using FP32 instead\n",
            "  warnings.warn(\"FP16 is not supported on CPU; using FP32 instead\")\n"
          ]
        },
        {
          "output_type": "stream",
          "name": "stdout",
          "text": [
            " عم روٹ بگلی ہے\n"
          ]
        },
        {
          "output_type": "stream",
          "name": "stderr",
          "text": [
            "/usr/local/lib/python3.7/dist-packages/whisper/transcribe.py:78: UserWarning: FP16 is not supported on CPU; using FP32 instead\n",
            "  warnings.warn(\"FP16 is not supported on CPU; using FP32 instead\")\n"
          ]
        },
        {
          "output_type": "stream",
          "name": "stdout",
          "text": [
            " اپنے سے لگائی گئی امیدوں سے بیتر کام کرتا ہوں\n"
          ]
        },
        {
          "output_type": "stream",
          "name": "stderr",
          "text": [
            "/usr/local/lib/python3.7/dist-packages/whisper/transcribe.py:78: UserWarning: FP16 is not supported on CPU; using FP32 instead\n",
            "  warnings.warn(\"FP16 is not supported on CPU; using FP32 instead\")\n"
          ]
        },
        {
          "output_type": "stream",
          "name": "stdout",
          "text": [
            " جب حالات بنیں گے کھر سٹیج سجے کا\n"
          ]
        },
        {
          "output_type": "stream",
          "name": "stderr",
          "text": [
            "/usr/local/lib/python3.7/dist-packages/whisper/transcribe.py:78: UserWarning: FP16 is not supported on CPU; using FP32 instead\n",
            "  warnings.warn(\"FP16 is not supported on CPU; using FP32 instead\")\n"
          ]
        },
        {
          "output_type": "stream",
          "name": "stdout",
          "text": [
            " اس کی وجہ یہ ہے کہ\n"
          ]
        },
        {
          "output_type": "stream",
          "name": "stderr",
          "text": [
            "/usr/local/lib/python3.7/dist-packages/whisper/transcribe.py:78: UserWarning: FP16 is not supported on CPU; using FP32 instead\n",
            "  warnings.warn(\"FP16 is not supported on CPU; using FP32 instead\")\n"
          ]
        },
        {
          "output_type": "stream",
          "name": "stdout",
          "text": [
            " حکمت کا ذرِ موادلہ کے زحائر میں اضافے کے لیے سکوک یوریو بانڈرز کا اجرا\n"
          ]
        }
      ]
    },
    {
      "cell_type": "code",
      "source": [
        "# calculating the Word Error Rate for 100 audios\n",
        "print(hypothesis)"
      ],
      "metadata": {
        "id": "F71QW4iPEb2M",
        "colab": {
          "base_uri": "https://localhost:8080/"
        },
        "outputId": "897c904e-2366-4642-e6b8-7959e994f573"
      },
      "execution_count": 6,
      "outputs": [
        {
          "output_type": "stream",
          "name": "stdout",
          "text": [
            "[' کروڑوں بچے ہر روز سکول جاتے ہیں', ' میں اپنی خوشات کو قابو میں رکھ سکتا ہوں', ' یہ بیانی سماجی اور ابلاگی سطح پر بھی موجود ہیں', ' اتنے افغان ہم نے برداش کر لیے حلہ کے ان میں', ' دوسطہ گیر لگاو', ' نیو جورگ ڈروکلین ڈیمیکس سیکوال ڈیوز', ' انقلابی قیریکوں کی بنیات کا جزبائے انتقام پر ہوتی ہے', ' بار سلونا نے اسپینش لائگا فتوال کا تطور جیت لیا', ' چیزوں میں شرط کا مال لینا جائز ہے', ' وہ زور سے حلصی۔', ' اسی گیفیت پر شاید شایر نے کہا تھا', ' صرف سوپ جوز اور دیگر سیال اشیا کا استعمال جاری رکھیں', ' ان رستوں کو دھوندے گا', ' تو دنیا سے بغاوت کردو ورنا مابا چہاں کہتے ہیں', ' ہری بڑی تیزی سے پیلی', ' عم روٹ بگلی ہے', ' اپنے سے لگائی گئی امیدوں سے بیتر کام کرتا ہوں', ' جب حالات بنیں گے کھر سٹیج سجے کا', ' اس کی وجہ یہ ہے کہ', ' حکمت کا ذرِ موادلہ کے زحائر میں اضافے کے لیے سکوک یوریو بانڈرز کا اجرا']\n"
          ]
        }
      ]
    },
    {
      "cell_type": "code",
      "source": [
        "# converting the groung_truth.txt into list\n",
        "\n",
        "with open('/content/grount_truth.txt', 'r') as f:\n",
        "    ground_truth = [line.strip() for line in f]"
      ],
      "metadata": {
        "id": "ap2j-ld4FDMr"
      },
      "execution_count": 7,
      "outputs": []
    },
    {
      "cell_type": "code",
      "source": [
        "# Printing Reference and Prediction\n",
        "for i, hyp_sentence in enumerate(hypothesis):\n",
        "    # print(i)\n",
        "    print(\"-\" * 100)\n",
        "    print(\"Reference:\", ground_truth[i])\n",
        "    print(\"Prediction:\", hyp_sentence)"
      ],
      "metadata": {
        "colab": {
          "base_uri": "https://localhost:8080/"
        },
        "id": "Rtl1vim5DAkw",
        "outputId": "d57619f7-af2c-4339-faa3-995d1c5b6602"
      },
      "execution_count": 8,
      "outputs": [
        {
          "output_type": "stream",
          "name": "stdout",
          "text": [
            "----------------------------------------------------------------------------------------------------\n",
            "Reference: کروڑوں بچے ہر روزسکول جا تے ہیں\n",
            "Prediction:  کروڑوں بچے ہر روز سکول جاتے ہیں\n",
            "----------------------------------------------------------------------------------------------------\n",
            "Reference: میں اپنی خواہشات کو قابو میں رکھ سکتا ہو\n",
            "Prediction:  میں اپنی خوشات کو قابو میں رکھ سکتا ہوں\n",
            "----------------------------------------------------------------------------------------------------\n",
            "Reference: یہ بیانیے سماجی اور ابلاغی سطح پر بھی موجود ہیں\n",
            "Prediction:  یہ بیانی سماجی اور ابلاگی سطح پر بھی موجود ہیں\n",
            "----------------------------------------------------------------------------------------------------\n",
            "Reference: اتنے افغان ہم نے برداشت کر لئے حالانکہ ان میں\n",
            "Prediction:  اتنے افغان ہم نے برداش کر لیے حلہ کے ان میں\n",
            "----------------------------------------------------------------------------------------------------\n",
            "Reference: دوسرا گیئر لگاؤ\n",
            "Prediction:  دوسطہ گیر لگاو\n",
            "----------------------------------------------------------------------------------------------------\n",
            "Reference: نیو یارک بروکلین کے میکسویل آرڈی ووز\n",
            "Prediction:  نیو جورگ ڈروکلین ڈیمیکس سیکوال ڈیوز\n",
            "----------------------------------------------------------------------------------------------------\n",
            "Reference: انقلابی تحریکوں کی بنیاد جذبۂ انتقام پر ہوتی ہے\n",
            "Prediction:  انقلابی قیریکوں کی بنیات کا جزبائے انتقام پر ہوتی ہے\n",
            "----------------------------------------------------------------------------------------------------\n",
            "Reference: بارسلونا نے اسپینش لالیگا فٹبال کا ٹائٹل جیت لیا\n",
            "Prediction:  بار سلونا نے اسپینش لائگا فتوال کا تطور جیت لیا\n",
            "----------------------------------------------------------------------------------------------------\n",
            "Reference: چیزوں میں شرط کا مال لینا جائز ہے\n",
            "Prediction:  چیزوں میں شرط کا مال لینا جائز ہے\n",
            "----------------------------------------------------------------------------------------------------\n",
            "Reference: وہ زور سے ہنسی\n",
            "Prediction:  وہ زور سے حلصی۔\n",
            "----------------------------------------------------------------------------------------------------\n",
            "Reference: اسی کیفیت پہ شاید شاعر نے کہا تھا\n",
            "Prediction:  اسی گیفیت پر شاید شایر نے کہا تھا\n",
            "----------------------------------------------------------------------------------------------------\n",
            "Reference: صرف سوپ، جوس، اور دیگر سیال اشیاء کا استعمال جاری رکھیں\n",
            "Prediction:  صرف سوپ جوز اور دیگر سیال اشیا کا استعمال جاری رکھیں\n",
            "----------------------------------------------------------------------------------------------------\n",
            "Reference: ان رستوں کو ڈھونڈے گا\n",
            "Prediction:  ان رستوں کو دھوندے گا\n",
            "----------------------------------------------------------------------------------------------------\n",
            "Reference: تو دنیا سے بغاوت کر دوورنہ ماں باپ جہاں کہتے ہیں\n",
            "Prediction:  تو دنیا سے بغاوت کردو ورنا مابا چہاں کہتے ہیں\n",
            "----------------------------------------------------------------------------------------------------\n",
            "Reference: حریک بڑی تیزی سے پھیلی\n",
            "Prediction:  ہری بڑی تیزی سے پیلی\n",
            "----------------------------------------------------------------------------------------------------\n",
            "Reference: اب رت بدلی ہے\n",
            "Prediction:  عم روٹ بگلی ہے\n",
            "----------------------------------------------------------------------------------------------------\n",
            "Reference: اپنے سے لگائی گئی امیدوں سے بہترکام کرتا ہوں\n",
            "Prediction:  اپنے سے لگائی گئی امیدوں سے بیتر کام کرتا ہوں\n",
            "----------------------------------------------------------------------------------------------------\n",
            "Reference: جب حالات بنیں گے اور سٹیج سجے گا\n",
            "Prediction:  جب حالات بنیں گے کھر سٹیج سجے کا\n",
            "----------------------------------------------------------------------------------------------------\n",
            "Reference: اس کی وجہ یہ ہے کہ\n",
            "Prediction:  اس کی وجہ یہ ہے کہ\n",
            "----------------------------------------------------------------------------------------------------\n",
            "Reference: حکومت کازر مبادلہ کے ذخائر میں اضافے کےلیے سکوک یورو بانڈزکا اجراء\n",
            "Prediction:  حکمت کا ذرِ موادلہ کے زحائر میں اضافے کے لیے سکوک یوریو بانڈرز کا اجرا\n"
          ]
        }
      ]
    },
    {
      "cell_type": "code",
      "source": [
        "from jiwer import wer, cer\n",
        "\n",
        "word_error_rate = wer(ground_truth, hypothesis)\n",
        "character_error_rate = cer(ground_truth, hypothesis)\n",
        "\n",
        "print(f\"Word Error Rate for 20 Audios is {word_error_rate*100} and Character Error Rate for 20 Audios is {character_error_rate*100}\")"
      ],
      "metadata": {
        "colab": {
          "base_uri": "https://localhost:8080/"
        },
        "id": "sPJd_xcREh8E",
        "outputId": "f7c1805b-683e-4dde-da3c-7c56c555ad1d"
      },
      "execution_count": 10,
      "outputs": [
        {
          "output_type": "stream",
          "name": "stdout",
          "text": [
            "Word Error Rate for 20 Audios is 40.0 and Character Error Rate for 20 Audios is 13.822284908321581\n"
          ]
        }
      ]
    }
  ],
  "metadata": {
    "colab": {
      "provenance": []
    },
    "kernelspec": {
      "display_name": "Python 3",
      "name": "python3"
    },
    "language_info": {
      "name": "python"
    }
  },
  "nbformat": 4,
  "nbformat_minor": 0
}